{
 "cells": [
  {
   "cell_type": "markdown",
   "metadata": {},
   "source": [
    "<h2 align=\"center\"> Logistic Regression </h2>"
   ]
  },
  {
   "cell_type": "markdown",
   "metadata": {},
   "source": [
    " "
   ]
  },
  {
   "cell_type": "markdown",
   "metadata": {},
   "source": [
    "### Task : Load the Data and Libraries\n",
    "---"
   ]
  },
  {
   "cell_type": "code",
   "execution_count": 10,
   "metadata": {},
   "outputs": [],
   "source": [
    "import numpy as np\n",
    "import matplotlib.pyplot as plt\n",
    "import seaborn as sns\n",
    "import pandas as pd\n",
    "plt.style.use(\"ggplot\")\n",
    "%matplotlib inline"
   ]
  },
  {
   "cell_type": "code",
   "execution_count": 11,
   "metadata": {},
   "outputs": [],
   "source": [
    "from pylab import rcParams\n",
    "rcParams['figure.figsize'] = 12, 8"
   ]
  },
  {
   "cell_type": "code",
   "execution_count": 12,
   "metadata": {},
   "outputs": [
    {
     "data": {
      "text/html": [
       "<div>\n",
       "<style scoped>\n",
       "    .dataframe tbody tr th:only-of-type {\n",
       "        vertical-align: middle;\n",
       "    }\n",
       "\n",
       "    .dataframe tbody tr th {\n",
       "        vertical-align: top;\n",
       "    }\n",
       "\n",
       "    .dataframe thead th {\n",
       "        text-align: right;\n",
       "    }\n",
       "</style>\n",
       "<table border=\"1\" class=\"dataframe\">\n",
       "  <thead>\n",
       "    <tr style=\"text-align: right;\">\n",
       "      <th></th>\n",
       "      <th>DMV_Test_1</th>\n",
       "      <th>DMV_Test_2</th>\n",
       "      <th>Results</th>\n",
       "    </tr>\n",
       "  </thead>\n",
       "  <tbody>\n",
       "    <tr>\n",
       "      <th>0</th>\n",
       "      <td>34.623660</td>\n",
       "      <td>78.024693</td>\n",
       "      <td>0</td>\n",
       "    </tr>\n",
       "    <tr>\n",
       "      <th>1</th>\n",
       "      <td>30.286711</td>\n",
       "      <td>43.894998</td>\n",
       "      <td>0</td>\n",
       "    </tr>\n",
       "    <tr>\n",
       "      <th>2</th>\n",
       "      <td>35.847409</td>\n",
       "      <td>72.902198</td>\n",
       "      <td>0</td>\n",
       "    </tr>\n",
       "    <tr>\n",
       "      <th>3</th>\n",
       "      <td>60.182599</td>\n",
       "      <td>86.308552</td>\n",
       "      <td>1</td>\n",
       "    </tr>\n",
       "    <tr>\n",
       "      <th>4</th>\n",
       "      <td>79.032736</td>\n",
       "      <td>75.344376</td>\n",
       "      <td>1</td>\n",
       "    </tr>\n",
       "  </tbody>\n",
       "</table>\n",
       "</div>"
      ],
      "text/plain": [
       "   DMV_Test_1  DMV_Test_2  Results\n",
       "0   34.623660   78.024693        0\n",
       "1   30.286711   43.894998        0\n",
       "2   35.847409   72.902198        0\n",
       "3   60.182599   86.308552        1\n",
       "4   79.032736   75.344376        1"
      ]
     },
     "execution_count": 12,
     "metadata": {},
     "output_type": "execute_result"
    }
   ],
   "source": [
    "data=pd.read_csv('DMV_Written_Tests.csv')\n",
    "data.head()"
   ]
  },
  {
   "cell_type": "code",
   "execution_count": 13,
   "metadata": {},
   "outputs": [
    {
     "data": {
      "text/plain": [
       "<bound method DataFrame.info of     DMV_Test_1  DMV_Test_2  Results\n",
       "0    34.623660   78.024693        0\n",
       "1    30.286711   43.894998        0\n",
       "2    35.847409   72.902198        0\n",
       "3    60.182599   86.308552        1\n",
       "4    79.032736   75.344376        1\n",
       "5    45.083277   56.316372        0\n",
       "6    61.106665   96.511426        1\n",
       "7    75.024746   46.554014        1\n",
       "8    76.098787   87.420570        1\n",
       "9    84.432820   43.533393        1\n",
       "10   95.861555   38.225278        0\n",
       "11   75.013658   30.603263        0\n",
       "12   82.307053   76.481963        1\n",
       "13   69.364589   97.718692        1\n",
       "14   39.538339   76.036811        0\n",
       "15   53.971052   89.207350        1\n",
       "16   69.070144   52.740470        1\n",
       "17   67.946855   46.678574        0\n",
       "18   70.661510   92.927138        1\n",
       "19   76.978784   47.575964        1\n",
       "20   67.372028   42.838438        0\n",
       "21   89.676776   65.799366        1\n",
       "22   50.534788   48.855812        0\n",
       "23   34.212061   44.209529        0\n",
       "24   77.924091   68.972360        1\n",
       "25   62.271014   69.954458        1\n",
       "26   80.190181   44.821629        1\n",
       "27   93.114389   38.800670        0\n",
       "28   61.830206   50.256108        0\n",
       "29   38.785804   64.995681        0\n",
       "..         ...         ...      ...\n",
       "70   32.722833   43.307173        0\n",
       "71   64.039320   78.031688        1\n",
       "72   72.346494   96.227593        1\n",
       "73   60.457886   73.094998        1\n",
       "74   58.840956   75.858448        1\n",
       "75   99.827858   72.369252        1\n",
       "76   47.264269   88.475865        1\n",
       "77   50.458160   75.809860        1\n",
       "78   60.455556   42.508409        0\n",
       "79   82.226662   42.719879        0\n",
       "80   88.913896   69.803789        1\n",
       "81   94.834507   45.694307        1\n",
       "82   67.319257   66.589353        1\n",
       "83   57.238706   59.514282        1\n",
       "84   80.366756   90.960148        1\n",
       "85   68.468522   85.594307        1\n",
       "86   42.075455   78.844786        0\n",
       "87   75.477702   90.424539        1\n",
       "88   78.635424   96.647427        1\n",
       "89   52.348004   60.769505        0\n",
       "90   94.094331   77.159105        1\n",
       "91   90.448551   87.508792        1\n",
       "92   55.482161   35.570703        0\n",
       "93   74.492692   84.845137        1\n",
       "94   89.845807   45.358284        1\n",
       "95   83.489163   48.380286        1\n",
       "96   42.261701   87.103851        1\n",
       "97   99.315009   68.775409        1\n",
       "98   55.340018   64.931938        1\n",
       "99   74.775893   89.529813        1\n",
       "\n",
       "[100 rows x 3 columns]>"
      ]
     },
     "execution_count": 13,
     "metadata": {},
     "output_type": "execute_result"
    }
   ],
   "source": [
    "data.info"
   ]
  },
  {
   "cell_type": "code",
   "execution_count": 15,
   "metadata": {},
   "outputs": [],
   "source": [
    "scores=data[['DMV_Test_1',\"DMV_Test_2\"]].values\n",
    "results=data['Results'].values"
   ]
  },
  {
   "cell_type": "markdown",
   "metadata": {},
   "source": [
    "### Task : Visualize the Data\n",
    "---"
   ]
  },
  {
   "cell_type": "code",
   "execution_count": 16,
   "metadata": {},
   "outputs": [
    {
     "data": {
      "image/png": "[encoded data removed]",
      "text/plain": [
       "<Figure size 864x576 with 1 Axes>"
      ]
     },
     "metadata": {
      "needs_background": "light"
     },
     "output_type": "display_data"
    }
   ],
   "source": [
    "passed=(results==1).reshape(100,1)\n",
    "failed=(results==0).reshape(100,1)\n",
    "\n",
    "ax=sns.scatterplot(x=scores[passed[:,0],0],\n",
    "                   y=scores[passed[:, 0],1],\n",
    "                   marker=\"^\",\n",
    "                   color='green',\n",
    "                   s=60)\n",
    "sns.scatterplot(x=scores[failed[:,0],0],\n",
    "                   y=scores[failed[:, 0],1],\n",
    "                   marker=\"*\",\n",
    "                   color='red',\n",
    "                   s=60)\n",
    "ax.set(xlabel='DMV Written Test1 Scores',ylabel='DMV Written Test2 Scores')\n",
    "ax.legend(['Passed','Failed'])\n",
    "plt.show();"
   ]
  },
  {
   "cell_type": "markdown",
   "metadata": {},
   "source": [
    "### Task : Define the Logistic Sigmoid Function $\\sigma(z)$\n",
    "---\n",
    "\n",
    "$$ \\sigma(z) = \\frac{1}{1+e^{-z}}$$"
   ]
  },
  {
   "cell_type": "code",
   "execution_count": 17,
   "metadata": {},
   "outputs": [],
   "source": [
    "def logistic_function(x):\n",
    "    return 1/(1+np.exp(-x))\n"
   ]
  },
  {
   "cell_type": "code",
   "execution_count": 18,
   "metadata": {},
   "outputs": [
    {
     "data": {
      "text/plain": [
       "0.5"
      ]
     },
     "execution_count": 18,
     "metadata": {},
     "output_type": "execute_result"
    }
   ],
   "source": [
    "logistic_function(0)"
   ]
  },
  {
   "cell_type": "markdown",
   "metadata": {},
   "source": [
    "### Task : Compute the Cost Function $J(\\theta)$ and Gradient\n",
    "---"
   ]
  },
  {
   "cell_type": "markdown",
   "metadata": {},
   "source": [
    "The objective of logistic regression is to minimize the cost function\n",
    "\n",
    "$$J(\\theta) = -\\frac{1}{m} \\sum_{i=1}^{m} [ y^{(i)}log(h_{\\theta}(x^{(i)})) + (1 - y^{(i)})log(1 - (h_{\\theta}(x^{(i)}))]$$\n",
    "\n",
    "where the gradient of the cost function is given by\n",
    "\n",
    "$$ \\frac{\\partial J(\\theta)}{\\partial \\theta_j} = \\frac{1}{m} \\sum_{i=1}^{m} (h_{\\theta}(x^{(i)}) - y^{(i)})x_j^{(i)}$$"
   ]
  },
  {
   "cell_type": "code",
   "execution_count": 35,
   "metadata": {},
   "outputs": [],
   "source": [
    "def compute_cost(theta,x,y):\n",
    "    m=len(y)\n",
    "    y_pred=logistic_function(np.dot(x, theta))\n",
    "    error=(y*np.log(y_pred))+(1-y)*np.log(1-y_pred)\n",
    "    cost=-1/m*sum(error)\n",
    "    gradient=1/m*np.dot(x.transpose(),(y_pred-y))\n",
    "    return cost[0],gradient\n"
   ]
  },
  {
   "cell_type": "markdown",
   "metadata": {},
   "source": [
    " "
   ]
  },
  {
   "cell_type": "markdown",
   "metadata": {},
   "source": [
    "### Task : Cost and Gradient at Initialization\n",
    "---"
   ]
  },
  {
   "cell_type": "code",
   "execution_count": 31,
   "metadata": {},
   "outputs": [
    {
     "name": "stdout",
     "output_type": "stream",
     "text": [
      "Cost at initialization 0.693147180559946\n",
      "Gradient at intitialization [[-0.1       ]\n",
      " [-0.28122914]\n",
      " [-0.25098615]]\n"
     ]
    }
   ],
   "source": [
    "mean_scores=np.mean(scores,axis=0)\n",
    "std_scores=np.std(scores,axis=0)\n",
    "scores=(scores-mean_scores)/std_scores\n",
    "\n",
    "rows=scores.shape[0]\n",
    "cols=scores.shape[1]\n",
    "\n",
    "X=np.append(np.ones((rows,1)),scores,axis=1)\n",
    "y=results.reshape(rows, 1) \n",
    "\n",
    "theta_init=np.zeros((cols+1,1))\n",
    "cost,gradient=computer_cost(theta_init,X,y)\n",
    "\n",
    "print('Cost at initialization',cost)\n",
    "print('Gradient at intitialization',gradient)"
   ]
  },
  {
   "cell_type": "code",
   "execution_count": null,
   "metadata": {},
   "outputs": [],
   "source": []
  },
  {
   "cell_type": "markdown",
   "metadata": {},
   "source": [
    " "
   ]
  },
  {
   "cell_type": "markdown",
   "metadata": {},
   "source": [
    "### Task : Gradient Descent\n",
    "---"
   ]
  },
  {
   "cell_type": "markdown",
   "metadata": {},
   "source": [
    "Minimize the cost function $J(\\theta)$ by updating the below equation and repeat until convergence\n",
    "$\\theta_j := \\theta_j - \\alpha \\frac{\\partial J(\\theta)}{\\partial \\theta_j}$ (simultaneously update $\\theta_j$ for all $j$)"
   ]
  },
  {
   "cell_type": "code",
   "execution_count": 36,
   "metadata": {},
   "outputs": [],
   "source": [
    "def gradient_descent(x,y,theta,alpha,iterations):\n",
    "    costs=[]\n",
    "    for i in range(iterations):\n",
    "        cost,gradient=compute_cost(theta,x,y)\n",
    "        theta-=alpha*gradient\n",
    "        costs.append(cost)\n",
    "    return theta,costs"
   ]
  },
  {
   "cell_type": "code",
   "execution_count": 37,
   "metadata": {},
   "outputs": [],
   "source": [
    "theta,costs=gradient_descent(X,y,theta_init,1,200)"
   ]
  },
  {
   "cell_type": "code",
   "execution_count": 38,
   "metadata": {},
   "outputs": [
    {
     "name": "stdout",
     "output_type": "stream",
     "text": [
      "Theta after running gradient descemt: [[1.50850586]\n",
      " [3.5468762 ]\n",
      " [3.29383709]]\n",
      "Resullting cost: 0.2048938203512014\n"
     ]
    }
   ],
   "source": [
    "print('Theta after running gradient descemt:',theta)\n",
    "print('Resullting cost:',costs[-1])"
   ]
  },
  {
   "cell_type": "markdown",
   "metadata": {},
   "source": [
    " "
   ]
  },
  {
   "cell_type": "markdown",
   "metadata": {},
   "source": [
    "### Task : Plotting the Convergence of $J(\\theta)$\n",
    "---"
   ]
  },
  {
   "cell_type": "markdown",
   "metadata": {},
   "source": [
    "Plot $J(\\theta)$ against the number of iterations of gradient descent:"
   ]
  },
  {
   "cell_type": "code",
   "execution_count": 39,
   "metadata": {},
   "outputs": [
    {
     "data": {
      "text/plain": [
       "Text(0.5, 1.0, 'Values of Cost Function over Iterations of Gradient Descent')"
      ]
     },
     "execution_count": 39,
     "metadata": {},
     "output_type": "execute_result"
    },
    {
     "data": {
      "image/png": "[encoded data removed]",
      "text/plain": [
       "<Figure size 864x576 with 1 Axes>"
      ]
     },
     "metadata": {
      "needs_background": "light"
     },
     "output_type": "display_data"
    }
   ],
   "source": [
    "plt.plot(costs)\n",
    "plt.xlabel(\"Iterations\")\n",
    "plt.ylabel(\"$J(|Theta)$\")\n",
    "plt.title(\"Values of Cost Function over Iterations of Gradient Descent\")"
   ]
  },
  {
   "cell_type": "code",
   "execution_count": null,
   "metadata": {},
   "outputs": [],
   "source": []
  },
  {
   "cell_type": "markdown",
   "metadata": {},
   "source": [
    " "
   ]
  },
  {
   "cell_type": "markdown",
   "metadata": {},
   "source": [
    "### Task : Plotting the decision boundary\n",
    "---"
   ]
  },
  {
   "cell_type": "markdown",
   "metadata": {},
   "source": [
    "$h_\\theta(x) = \\sigma(z)$, where $\\sigma$ is the logistic sigmoid function and $z = \\theta^Tx$\n",
    "\n",
    "When $h_\\theta(x) \\geq 0.5$ the model predicts class \"1\":\n",
    "\n",
    "$\\implies \\sigma(\\theta^Tx) \\geq 0.5$\n",
    "\n",
    "$\\implies \\theta^Tx \\geq 0$ predict class \"1\" \n",
    "\n",
    "Hence, $\\theta_1 + \\theta_2x_2 + \\theta_3x_3 = 0$ is the equation for the decision boundary, giving us \n",
    "\n",
    "$ x_3 = \\frac{-(\\theta_1+\\theta_2x_2)}{\\theta_3}$"
   ]
  },
  {
   "cell_type": "code",
   "execution_count": 42,
   "metadata": {},
   "outputs": [
    {
     "data": {
      "text/plain": [
       "<matplotlib.axes._subplots.AxesSubplot at 0x7fd90dd9cdd8>"
      ]
     },
     "execution_count": 42,
     "metadata": {},
     "output_type": "execute_result"
    },
    {
     "data": {
      "image/png": "[encoded data removed]",
      "text/plain": [
       "<Figure size 864x576 with 1 Axes>"
      ]
     },
     "metadata": {
      "needs_background": "light"
     },
     "output_type": "display_data"
    }
   ],
   "source": [
    "ax=sns.scatterplot(x=X[passed[:,0],1],\n",
    "                   y=X[passed[:, 0],2],\n",
    "                   marker=\"^\",\n",
    "                   color='green',\n",
    "                   s=60)\n",
    "sns.scatterplot(x=X[failed[:,0],1],\n",
    "                   y=X[failed[:, 0],2],\n",
    "                   marker=\"*\",\n",
    "                   color='red',\n",
    "                   s=60)\n",
    "ax.legend(['Passed','Failed'])\n",
    "ax.set(xlabel=\"DMV Written Test 1 Scores\",ylabel=\"DMV Written Test 2 Scores\")\n",
    "x_boundary=np.array([np.min(X[:,1]),np.max(X[:,1])])\n",
    "y_boundary=-(theta[0]+theta[1]*x_boundary)/theta[2]\n",
    "\n",
    "sns.lineplot(x=x_boundary,y=y_boundary,color='blue')"
   ]
  },
  {
   "cell_type": "code",
   "execution_count": null,
   "metadata": {},
   "outputs": [],
   "source": []
  },
  {
   "cell_type": "markdown",
   "metadata": {},
   "source": [
    " "
   ]
  },
  {
   "cell_type": "markdown",
   "metadata": {},
   "source": [
    "### Task : Predictions using the optimized $\\theta$ values\n",
    "---"
   ]
  },
  {
   "cell_type": "markdown",
   "metadata": {},
   "source": [
    "$h_\\theta(x) = x\\theta$"
   ]
  },
  {
   "cell_type": "code",
   "execution_count": 43,
   "metadata": {},
   "outputs": [],
   "source": [
    "def predict(theta,x):\n",
    "    results=x.dot(theta)\n",
    "    return results>0"
   ]
  },
  {
   "cell_type": "code",
   "execution_count": 44,
   "metadata": {},
   "outputs": [
    {
     "name": "stdout",
     "output_type": "stream",
     "text": [
      "Training Accuracy: 89 %\n"
     ]
    }
   ],
   "source": [
    "p=predict(theta,X)\n",
    "print(\"Training Accuracy:\",sum(p==y)[0],\"%\")"
   ]
  },
  {
   "cell_type": "code",
   "execution_count": 57,
   "metadata": {},
   "outputs": [
    {
     "name": "stdout",
     "output_type": "stream",
     "text": [
      "A person who scores 50 and 79 on their DMV written tests have a 1.0 probability of passing\n"
     ]
    }
   ],
   "source": [
    "test=np.array([50,79])\n",
    "test=(test-mean_scores)/std_scores\n",
    "test=np.append(np.ones(1),test)\n",
    "probability=logistic_function(test.dot(theta))\n",
    "print('A person who scores 50 and 79 on their DMV written tests have a',np.round(probability[0],2),'probability of passing')"
   ]
  },
  {
   "cell_type": "code",
   "execution_count": null,
   "metadata": {},
   "outputs": [],
   "source": []
  }
 ],
 "metadata": {
  "kernelspec": {
   "display_name": "Python 3",
   "language": "python",
   "name": "python3"
  },
  "language_info": {
   "codemirror_mode": {
    "name": "ipython",
    "version": 3
   },
   "file_extension": ".py",
   "mimetype": "text/x-python",
   "name": "python",
   "nbconvert_exporter": "python",
   "pygments_lexer": "ipython3",
   "version": "3.7.3"
  }
 },
 "nbformat": 4,
 "nbformat_minor": 2
}
